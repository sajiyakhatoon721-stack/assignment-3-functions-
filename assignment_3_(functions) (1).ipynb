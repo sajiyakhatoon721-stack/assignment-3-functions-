{
  "cells": [
    {
      "cell_type": "markdown",
      "metadata": {
        "id": "CETPm9l4UWTV"
      },
      "source": [
        "# Theory\n",
        "\n",
        " Q1. What is the difference between a function and a method in Python?\n",
        "          ->The main difference between functions and methods in Python lies in how they are called and their association with objects.\n",
        "\n",
        "           Functions: Functions are standalone blocks of code that perform a specific task. They are defined using the def keyword and can be called directly by their name. Functions do not need to be associated with any specific object.\n",
        "\n",
        "           def my_function(x):\n",
        "           return x + 1\n",
        "\n",
        "           result = my_function(5)\n",
        "           print(result)\n",
        "\n",
        "          Methods: Methods are functions that are associated with an object (an instance of a class). They are defined within a class and are called on an instance of that class using dot notation (object.method()). Methods can access and modify the object's attributes.\n",
        "\n",
        "          class MyClass:\n",
        "          def __init__(self, x):\n",
        "          self.x = x\n",
        "\n",
        "          def my_method(self):\n",
        "          return self.x + 1\n",
        "\n",
        "          obj = MyClass(5)\n",
        "          result = obj.my_method()\n",
        "          print(result)\n",
        "\n",
        "  Q2. Explain the concept of function arguments and parameters in Python.\n",
        "         ->In Python, parameters and arguments are concepts related to passing data into functions.\n",
        "\n",
        "          Parameters: Parameters are the names listed in the function definition. They act as placeholders for the values that will be passed into the function when it is called.\n",
        "          def greet(name): # 'name' is a parameter\n",
        "          print(f\"Hello, {name}!\")\n",
        "\n",
        "          Arguments: Arguments are the actual values that are passed to the function when it is called. These values are assigned to the corresponding parameters within the function.\n",
        "          greet(\"Alice\") # \"Alice\" is an argument\n",
        "         In the example above, name is the parameter defined in the greet function. When we call greet(\"Alice\"), the string \"Alice\" is the argument that is passed to the function, and it is assigned to the name parameter.\n",
        "\n",
        "         You can have multiple parameters and arguments:\n",
        "\n",
        "        def add_numbers(a, b): # 'a' and 'b' are parameters\n",
        "        return a + b\n",
        "\n",
        "        sum_result = add_numbers(5, 3) # 5 and 3 are arguments\n",
        "        print(sum_result)\n",
        "\n",
        "   Q3. What are the different ways to define and call a function in Python?\n",
        "          ->   There are several ways to define and call functions in Python. Here are some common ones:\n",
        "\n",
        "         * Defining Functions:\n",
        "\n",
        "         1. Standard Function Definition: Using the def keyword.\n",
        "         def my_function(parameter1, parameter2):\n",
        "          Function body\n",
        "         result = parameter1 + parameter2\n",
        "         return result\n",
        "        2. Lambda Functions (Anonymous Functions): For simple, single-expression functions.\n",
        "        my_lambda_function = lambda parameter1, parameter2: parameter1 + parameter2\n",
        "        * Calling Functions:\n",
        "\n",
        "        1. Positional Arguments: Arguments are matched to parameters based on their order.\n",
        "        result = my_function(10, 20)\n",
        "        2. Keyword Arguments: Arguments are matched to parameters based on their name. This allows you to call a function with arguments in any order.\n",
        "        result = my_function(parameter2=20, parameter1=10)\n",
        "        3. Default Arguments: Parameters can have default values, making them optional when calling the function.\n",
        "        def function_with_default(parameter1, parameter2=0):\n",
        "        return parameter1 + parameter2\n",
        "\n",
        "         result1 = function_with_default(10)      # parameter2 uses the default value 0\n",
        "        result2 = function_with_default(10, 5)   # parameter2 is explicitly set to 5\n",
        "        4. Arbitrary Positional Arguments (*args): Allows a function to accept an arbitrary number of positional arguments as a tuple.\n",
        "        def function_with_args(*args):\n",
        "        for arg in args:\n",
        "         print(arg)\n",
        "\n",
        "         function_with_args(1, 2, 3)\n",
        "        5. Arbitrary Keyword Arguments (`kwargs`):** Allows a function to accept an arbitrary number of keyword arguments as a dictionary.\n",
        "        def function_with_kwargs(**kwargs):\n",
        "        for key, value in kwargs.items():\n",
        "        print(f\"{key}: {value}\")\n",
        "\n",
        "        function_with_kwargs(name=\"Alice\", age=30)\n",
        "        6. Combining Argument Types: You can combine these methods, but the order matters: positional arguments, then default arguments, then *args, then keyword arguments, and finally **kwargs.\n",
        "        def complex_function(pos_arg, default_arg=0, *args, kw_arg1, **kwargs):\n",
        "        pass\n",
        "\n",
        " Q4. What is the purpose of the `return` statement in a Python function?\n",
        "         -> the return statement in a function is used to send a value back to the caller of the function. It serves several key purposes:\n",
        "\n",
        "         * Outputting Results: The primary purpose is to allow a function to produce a result that can be used by other parts of the program. Without a return statement, a function that performs a calculation or process would complete its tasks, but the outcome of those tasks wouldn't be accessible outside of the function's scope.\n",
        "         Exiting the Function: When a return statement is encountered, the function immediately stops executing, and control is returned to the point where the function was called. Any code within the function after the return statement will not be executed.\n",
        "         * Returning None by Default: If a function doesn't have a return statement, or if it has a return statement without a value, it implicitly returns None.\n",
        "         Here are some examples:\n",
        "\n",
        "          Example 1: Returning a calculated value\n",
        "\n",
        "        def add_numbers(a, b):\n",
        "        sum_result = a + b\n",
        "        return sum_result # The sum_result is returned to the caller\n",
        "\n",
        "        total = add_numbers(5, 3)\n",
        "        print(total) # Output: 8\n",
        "\n",
        "        In this example, add_numbers calculates the sum of a and b and then uses return sum_result to send that sum back to the line where add_numbers was called. The returned value is then stored in the total variable.\n",
        "\n",
        "        Example 2: Exiting the function early\n",
        "\n",
        "        def check_positive(number):\n",
        "        if number <= 0:\n",
        "         return \"Please enter a positive number.\" # Exit the function if the number is not positive\n",
        "          else:\n",
        "         return \"The number is positive.\"\n",
        "\n",
        "        print(check_positive(10)) # Output: The number is positive.\n",
        "        print(check_positive(-5)) # Output: Please enter a positive number.\n",
        "        Here, the return statement inside the if block causes the function to stop and return the specified string if the number is not positive.\n",
        "\n",
        "        Example 3: Returning multiple values (as a tuple)\n",
        "\n",
        "      def get_name_and_age():\n",
        "      name = \"Alice\"\n",
        "      age = 30\n",
        "      return name, age # Returns a tuple containing name and age\n",
        "\n",
        "      person_info = get_name_and_age()\n",
        "      print(person_info)      # Output: ('Alice', 30)\n",
        "      print(person_info[0])   # Output: Alice\n",
        "      print(person_info[1])   # Output: 30\n",
        "\n",
        "       You can also unpack the returned tuple directly\n",
        "      name, age = get_name_and_age()\n",
        "      print(name) # Output: Alice\n",
        "      print(age)  # Output: 30\n",
        "      Functions can return multiple values by listing them after the return statement, separated by commas. These values are automatically packed into a tuple.\n",
        "\n",
        "  Q5. What are iterators in Python and how do they differ from iterables?\n",
        "     ->Iterable: An iterable is an object that can be looped over or iterated through. This means it can return its elements one by one. Examples of iterables include lists, tuples, strings, and dictionaries. You can use a for loop directly on an iterable.\n",
        "     my_list = [1, 2, 3, 4]\n",
        "     for item in my_list:  my_list is an iterable\n",
        "     print(item)\n",
        "     Iterator: An iterator is an object that represents a stream of data. It's what actually performs the iteration. An iterator has a __next__() method that returns the next item in the sequence. When there are no more items, it raises a StopIteration exception.\n",
        "\n",
        "     You can get an iterator from an iterable using the iter() function.\n",
        "\n",
        "      my_list = [1, 2, 3, 4]\n",
        "      my_iterator = iter(my_list)  Get an iterator from the list\n",
        "\n",
        "      print(next(my_iterator))  Output: 1\n",
        "      print(next(my_iterator))  Output: 2\n",
        "      print(next(my_iterator))  Output: 3\n",
        "      print(next(my_iterator))  Output: 4\n",
        "      print(next(my_iterator)) This would raise StopIteration\n",
        "      Key Differences:\n",
        "\n",
        "     What they are: An iterable is a container that can be iterated, while an iterator is an object that performs the iteration.\n",
        "     * Methods: Iterables have an __iter__() method (which returns an iterator). Iterators have both an __iter__() method (which returns the iterator itself) and a __next__() method.\n",
        "     * State: Iterators maintain state – they know where they are in the sequence. Iterables do not maintain this state themselves; they provide an iterator to do so.\n",
        "     * One-time use: Iterators are generally consumed as you iterate. Once you've gone through all the items, you can't go back unless you create a new iterator from the iterable.\n",
        "\n",
        "  Q6. Explain the concept of generators in Python and how they are defined.\n",
        "            -> Generators: Generators are a special type of function that allows you to create iterators in a more straightforward way. They \"generate\" values on the fly as you iterate over them, rather than building a complete list or sequence in memory. This makes them very memory-efficient, especially for large datasets.\n",
        "     How they are defined:\n",
        "     Generators are defined like regular functions using the def keyword, but instead of using the return statement to return a value and exit, they use the yield keyword to produce a sequence of values. When yield is encountered, the function's state is frozen, and the value is returned. When next() is called on the generator again, execution resumes from where it left off.\n",
        "     Here's an example:\n",
        "\n",
        "      def simple_generator():\n",
        "      yield 1\n",
        "      yield 2\n",
        "      yield 3\n",
        "\n",
        "       Create a generator object\n",
        "      gen = simple_generator()\n",
        "\n",
        "      Iterate over the generator\n",
        "     print(next(gen))  Output: 1\n",
        "     print(next(gen))  Output: 2\n",
        "     print(next(gen))  Output: 3\n",
        "     print(next(gen))  This would raise StopIteration\n",
        "     In this example, simple_generator is a generator function. When we call it, it returns a generator object (gen). Calling next() on the generator object resumes the function's execution until the next yield statement is reached.\n",
        "\n",
        "     Generators are often used in for loops, which automatically handle the iteration and the StopIteration exception:\n",
        "\n",
        "      def count_up_to(n):\n",
        "      i = 1\n",
        "      while i <= n:\n",
        "      yield i\n",
        "      i += 1\n",
        "\n",
        "      for number in count_up_to(5):\n",
        "      print(number)\n",
        "       Output:\n",
        "       1\n",
        "       2\n",
        "       3\n",
        "       4\n",
        "       5\n",
        "      This generator count_up_to yields numbers from 1 up to n. It doesn't create a list of all numbers in memory at once; it generates them one by one as the for loop requests them.\n",
        "\n",
        "     Generators are powerful for working with large sequences of data or when you need to create custom iterators.\n",
        "\n",
        "  Q7. What are the advantages of using generators over regular functions?\n",
        "         ->Generators offer several advantages over regular functions that return a list or sequence:\n",
        "\n",
        "     * Memory Efficiency: This is the primary advantage. Generators produce values one at a time as they are requested, rather than generating all values at once and storing them in memory. This is crucial when working with very large datasets or infinite sequences.\n",
        "\n",
        "     * Regular Function (less memory efficient for large data):\n",
        "     def create_large_list(n):\n",
        "     numbers = []\n",
        "     for i in range(n):\n",
        "     numbers.append(i)\n",
        "     return numbers\n",
        "\n",
        "      For a very large n, this list could consume a lot of memory\n",
        "     my_list = create_large_list(10000000)\n",
        "     Generator (memory efficient):\n",
        "     def create_large_generator(n):\n",
        "     for i in range(n):\n",
        "     yield i\n",
        "\n",
        "      The generator only produces one number at a time, saving memory\n",
        "     my_generator = create_large_generator(10000000)\n",
        "     for number in my_generator:\n",
        "      Process the number\n",
        "     pass  No large list is stored in memory\n",
        "     Performance: Due to their memory efficiency, generators can also be faster for certain operations, especially when you only need to process items one by one. They avoid the overhead of building and managing a large list.\n",
        "    * Lazy Evaluation: Generators are lazy, meaning they only compute the next value when it's needed. This is beneficial when you might not need to process the entire sequence.\n",
        "    * Infinite Sequences: Generators can be used to represent infinite sequences, which is not possible with regular functions that return a finite list.\n",
        "    def infinite_sequence():\n",
        "    num = 0\n",
        "    while True:\n",
        "    yield num\n",
        "    num += 1\n",
        "\n",
        "     You can iterate over the infinite sequence up to a certain point\n",
        "    for i in infinite_sequence():\n",
        "    if i > 10:\n",
        "    break\n",
        "    print(i)\n",
        "    * Cleaner Code for Iterators: Defining iterators with generators is often much simpler and more readable than writing a class with __iter__() and __next__() methods.\n",
        "\n",
        " Q8. What is a lambda function in Python and when is it typically used?\n",
        "          ->A lambda function is a small, anonymous function defined using the lambda keyword. It can take any number of arguments but can only have one expression. The expression is evaluated, and the result is returned implicitly.\n",
        "\n",
        "    The basic syntax is: lambda arguments: expression\n",
        "\n",
        "     Here's a simple example:\n",
        "\n",
        "     add = lambda x, y: x + y\n",
        "     print(add(5, 3))  Output: 8\n",
        "     This lambda function is equivalent to:\n",
        "\n",
        "     def add(x, y):\n",
        "     return x + y\n",
        "     When are they typically used : Lambda functions are typically used in situations where you need a small function for a short period and don't want to formally define a function using def. They are often used as arguments to higher-order functions (functions that take other functions as arguments), such as:\n",
        "\n",
        "     * filter(): To filter elements from an iterable based on a condition.\n",
        "     my_list = [1, 2, 3, 4, 5, 6]\n",
        "     even_numbers = list(filter(lambda x: x % 2 == 0, my_list))\n",
        "     print(even_numbers)  Output: [2, 4, 6]\n",
        "     * map(): To apply a function to each item in an iterable.\n",
        "     my_list = [1, 2, 3, 4]\n",
        "     squared_numbers = list(map(lambda x: x**2, my_list))\n",
        "     print(squared_numbers) # Output: [1, 4, 9, 16]\n",
        "     * sorted(): To specify a custom sorting key.\n",
        "     my_list = [(1, 'b'), (3, 'a'), (2, 'c')]\n",
        "     sorted_list = sorted(my_list, key=lambda item: item[1])\n",
        "     print(sorted_list) # Output: [(3, 'a'), (1, 'b'), (2, 'c')]\n",
        "    * reduce() (from functools): To apply a function cumulatively to the items of a sequence.\n",
        "    from functools import reduce\n",
        "    my_list = [1, 2, 3, 4]\n",
        "    product = reduce(lambda x, y: x * y, my_list)\n",
        "    print(product)  Output: 24\n",
        "    Lambda functions are best suited for simple operations. For more complex logic, a regular def function is usually preferred for readability.\n",
        "\n",
        " Q9. Explain the purpose and usage of the `map()` function in Python.\n",
        "           ->Purpose: The map() function is a built-in Python function that applies a given function to each item of an iterable (like a list, tuple, etc.) and returns an iterator that yields the results. It's a concise way to perform the same operation on every element of a sequence without writing an explicit for loop.\n",
        "\n",
        "          Usage: The basic syntax of map() is: map(function, iterable, ...).\n",
        "\n",
        "          function: The function to apply to each item of the iterable(s).\n",
        "          iterable: One or more iterables whose elements will be passed to the function.\n",
        "          Here's an example:\n",
        "\n",
        "           A list of numbers\n",
        "         numbers = [1, 2, 3, 4, 5]\n",
        "\n",
        "         A function to square a number\n",
        "       def square(x):\n",
        "       return x**2\n",
        "\n",
        "        Use map() to apply the square function to each number in the list\n",
        "       squared_numbers_iterator = map(square, numbers)\n",
        "\n",
        "         To see the results, you can convert the iterator to a list\n",
        "        squared_numbers_list = list(squared_numbers_iterator)\n",
        "\n",
        "        print(squared_numbers_list) # Output: [1, 4, 9, 16, 25]\n",
        "        In this example, map(square, numbers) applies the square function to each element of the numbers list. The result is an iterator, which we then convert to a list to display the squared numbers.\n",
        "\n",
        "        You can also use map() with lambda functions for simpler operations:\n",
        "\n",
        "        numbers = [1, 2, 3, 4, 5]\n",
        "\n",
        "         Use map() with a lambda function to double each number\n",
        "        doubled_numbers_list = list(map(lambda x: x * 2, numbers))\n",
        "\n",
        "       print(doubled_numbers_list) # Output: [2, 4, 6, 8, 10]\n",
        "       map() is a powerful tool for transforming data within iterables efficiently and often leads to more readable code compared to equivalent for loops, especially for simple transformations.\n",
        "\n",
        "  Q10. What is the difference between `map()`, `reduce()`, and `filter()` functions in Python?                                                \n",
        "        ->These   are all functions that operate on iterables, but they serve different purposes:\n",
        "\n",
        "       map():\n",
        "       Purpose: Applies a function to each item of an iterable and returns an iterator of the results. It's used for transforming each element in a sequence.\n",
        "       Output: An iterator with the same number of elements as the input iterable, where each element is the result of applying the function to the corresponding input element.\n",
        "       Example:\n",
        "       numbers = [1, 2, 3, 4]\n",
        "       squared = list(map(lambda x: x**2, numbers))\n",
        "       print(squared)  Output: [1, 4, 9, 16]\n",
        "      filter():\n",
        "      Purpose: Constructs an iterator from elements of an iterable for which a function returns True. It's used for selecting elements from a sequence based on a condition.\n",
        "      Output: An iterator containing only the elements from the input iterable for which the function returned True. The number of elements in the output can be less than the input.\n",
        "      Example:\n",
        "      numbers = [1, 2, 3, 4, 5, 6]\n",
        "      even = list(filter(lambda x: x % 2 == 0, numbers))\n",
        "      print(even)  Output: [2, 4, 6]\n",
        "      reduce():\n",
        "      Purpose: Applies a function of two arguments cumulatively to the items of a sequence, from left to right, so as to reduce the sequence to a single value. It's used for combining elements in a sequence into a single result. You need to import it from the functools module.\n",
        "      Output: A single value that is the result of the cumulative application of the function.\n",
        "      Example:\n",
        "      from functools import reduce\n",
        "\n",
        "      numbers = [1, 2, 3, 4]\n",
        "      product = reduce(lambda x, y: x * y, numbers)\n",
        "      print(product)  Output: 24\n",
        "      In essence:\n",
        "\n",
        "      map() transforms each element.\n",
        "      filter() selects elements based on a condition.\n",
        "      reduce() combines elements into a single value.\n",
        "\n",
        "  Q11. Using pen & Paper write the internal mechanism for sum operation using  reduce function on this given  list:[47,11,42,13];\n",
        "      ->Let's use the list: [47, 11, 42, 13] and the sum operation. The reduce function applies a function of two arguments cumulatively to the items of a sequence.\n",
        "\n",
        "      Here's how it works internally for a sum:\n",
        "\n",
        "      Start: reduce takes the first two elements of the list and applies the function (in this case, addition) to them.\n",
        "      Current result: 47 + 11 = 58\n",
        "      Remaining list: [42, 13]\n",
        "      Step 2: reduce takes the result from the previous step (58) and the next element in the list (42) and applies the function again.\n",
        "      Current result: 58 + 42 = 100\n",
        "      Remaining list: [13]\n",
        "      Step 3: reduce takes the result from the previous step (100) and the next element in the list (13) and applies the function.\n",
        "      Current result: 100 + 13 = 113\n",
        "      Remaining list: []\n",
        "      End: Since there are no more elements in the list, the reduce function returns the final cumulative result.\n",
        "      Final result: 113\n",
        "      So, if you were writing it on paper, it would look something like this:\n",
        "\n",
        "      [47, 11, 42, 13]\n",
        "      Step 1: 47 + 11 = 58\n",
        "      Step 2: 58 + 42 = 100\n",
        "      Step 3: 100 + 13 = 113\n",
        "      Final Sum: 113\n",
        "      This demonstrates how reduce iteratively combines the elements of the list using the specified function until a single result is obtained.\n",
        "\n",
        "\n",
        "#Practical questions\n",
        "\n",
        " 1. Write a Python function that takes a list of numbers as input and returns the sum of all even numbers in the list."
      ]
    },
    {
      "cell_type": "code",
      "execution_count": null,
      "metadata": {
        "colab": {
          "base_uri": "https://localhost:8080/"
        },
        "id": "08a1654b",
        "outputId": "33009298-feed-4230-d43c-ad2747cb8232"
      },
      "outputs": [
        {
          "name": "stdout",
          "output_type": "stream",
          "text": [
            "The sum of even numbers in the list is: 30\n"
          ]
        }
      ],
      "source": [
        "def sum_of_even_numbers(numbers):\n",
        "  \"\"\"\n",
        "  Calculates the sum of all even numbers in a list.\n",
        "\n",
        "  Args:\n",
        "    numbers: A list of numbers.\n",
        "\n",
        "  Returns:\n",
        "    The sum of all even numbers in the list.\n",
        "  \"\"\"\n",
        "  even_sum = 0\n",
        "  for number in numbers:\n",
        "    if number % 2 == 0:\n",
        "      even_sum += number\n",
        "  return even_sum\n",
        "\n",
        "# Example usage:\n",
        "my_list = [1, 2, 3, 4, 5, 6, 7, 8, 9, 10]\n",
        "even_sum_result = sum_of_even_numbers(my_list)\n",
        "print(f\"The sum of even numbers in the list is: {even_sum_result}\")"
      ]
    },
    {
      "cell_type": "markdown",
      "metadata": {
        "id": "dIDjUm0Wx-PT"
      },
      "source": [
        " 2. Create a Python function that accepts a string and returns the reverse of that string.\n"
      ]
    },
    {
      "cell_type": "code",
      "execution_count": null,
      "metadata": {
        "colab": {
          "base_uri": "https://localhost:8080/"
        },
        "id": "be67e8b9",
        "outputId": "5a356094-b2c2-4cdd-a967-51f5014f6c83"
      },
      "outputs": [
        {
          "name": "stdout",
          "output_type": "stream",
          "text": [
            "The original string is: Hello, World!\n",
            "The reversed string is: !dlroW ,olleH\n"
          ]
        }
      ],
      "source": [
        "def reverse_string(input_string):\n",
        "  \"\"\"\n",
        "  Reverses a given string.\n",
        "\n",
        "  Args:\n",
        "    input_string: The string to be reversed.\n",
        "\n",
        "  Returns:\n",
        "    The reversed string.\n",
        "  \"\"\"\n",
        "  return input_string[::-1]\n",
        "\n",
        "# Example usage:\n",
        "my_string = \"Hello, World!\"\n",
        "reversed_string_result = reverse_string(my_string)\n",
        "print(f\"The original string is: {my_string}\")\n",
        "print(f\"The reversed string is: {reversed_string_result}\")"
      ]
    },
    {
      "cell_type": "markdown",
      "metadata": {
        "id": "U7oHySkRy_L4"
      },
      "source": [
        " 3. Implement a Python function that takes a list of integers and returns a new list containing the squares of\n",
        "each number."
      ]
    },
    {
      "cell_type": "code",
      "execution_count": null,
      "metadata": {
        "colab": {
          "base_uri": "https://localhost:8080/"
        },
        "id": "231b8d8b",
        "outputId": "926e7615-49e8-481e-8ae1-ed7c879bbe18"
      },
      "outputs": [
        {
          "name": "stdout",
          "output_type": "stream",
          "text": [
            "Original list: [1, 2, 3, 4, 5]\n",
            "Squared list: [1, 4, 9, 16, 25]\n"
          ]
        }
      ],
      "source": [
        "def square_numbers_in_list(numbers):\n",
        "  \"\"\"\n",
        "  Calculates the square of each number in a list and returns a new list.\n",
        "\n",
        "  Args:\n",
        "    numbers: A list of integers.\n",
        "\n",
        "  Returns:\n",
        "    A new list containing the squares of each number.\n",
        "  \"\"\"\n",
        "  squared_numbers = [number ** 2 for number in numbers]\n",
        "  return squared_numbers\n",
        "\n",
        "# Example usage:\n",
        "my_list = [1, 2, 3, 4, 5]\n",
        "squared_list = square_numbers_in_list(my_list)\n",
        "print(f\"Original list: {my_list}\")\n",
        "print(f\"Squared list: {squared_list}\")"
      ]
    },
    {
      "cell_type": "markdown",
      "metadata": {
        "id": "wAYbxjuhz_ur"
      },
      "source": [
        " 4. Write a Python function that checks if a given number is prime or not from 1 to 200.\n"
      ]
    },
    {
      "cell_type": "code",
      "execution_count": null,
      "metadata": {
        "colab": {
          "base_uri": "https://localhost:8080/"
        },
        "id": "15024401",
        "outputId": "d6cc6f88-3e26-4591-a96d-13898fa724c7"
      },
      "outputs": [
        {
          "name": "stdout",
          "output_type": "stream",
          "text": [
            "53 is a prime number.\n",
            "100 is not a prime number.\n"
          ]
        }
      ],
      "source": [
        "def is_prime(number):\n",
        "  \"\"\"\n",
        "  Checks if a given number is prime.\n",
        "\n",
        "  Args:\n",
        "    number: An integer between 1 and 200.\n",
        "\n",
        "  Returns:\n",
        "    True if the number is prime, False otherwise.\n",
        "  \"\"\"\n",
        "  if number <= 1:\n",
        "    return False  # Numbers less than or equal to 1 are not prime\n",
        "  for i in range(2, int(number**0.5) + 1):\n",
        "    if number % i == 0:\n",
        "      return False  # If divisible by any number other than 1 and itself, it's not prime\n",
        "  return True  # If not divisible by any number in the loop, it's prime\n",
        "\n",
        "# Example usage:\n",
        "num_to_check = 53\n",
        "if 1 <= num_to_check <= 200:\n",
        "  if is_prime(num_to_check):\n",
        "    print(f\"{num_to_check} is a prime number.\")\n",
        "  else:\n",
        "    print(f\"{num_to_check} is not a prime number.\")\n",
        "else:\n",
        "  print(\"Please enter a number between 1 and 200.\")\n",
        "\n",
        "num_to_check = 100\n",
        "if 1 <= num_to_check <= 200:\n",
        "  if is_prime(num_to_check):\n",
        "    print(f\"{num_to_check} is a prime number.\")\n",
        "  else:\n",
        "    print(f\"{num_to_check} is not a prime number.\")\n",
        "else:\n",
        "  print(\"Please enter a number between 1 and 200.\")"
      ]
    },
    {
      "cell_type": "markdown",
      "metadata": {
        "id": "vfmVgVOY1CGI"
      },
      "source": [
        " 5. Create an iterator class in Python that generates the Fibonacci sequence up to a specified number of terms."
      ]
    },
    {
      "cell_type": "code",
      "execution_count": null,
      "metadata": {
        "colab": {
          "base_uri": "https://localhost:8080/"
        },
        "id": "c43bc035",
        "outputId": "217b35eb-7dc0-4d15-892d-8c671293ce01"
      },
      "outputs": [
        {
          "name": "stdout",
          "output_type": "stream",
          "text": [
            "Fibonacci sequence:\n",
            "0\n",
            "1\n",
            "1\n",
            "2\n",
            "3\n",
            "5\n",
            "8\n",
            "13\n",
            "21\n",
            "34\n"
          ]
        }
      ],
      "source": [
        "class FibonacciIterator:\n",
        "  \"\"\"\n",
        "  An iterator that generates the Fibonacci sequence up to a specified number of terms.\n",
        "  \"\"\"\n",
        "  def __init__(self, num_terms):\n",
        "    self.num_terms = num_terms\n",
        "    self.count = 0\n",
        "    self.a = 0\n",
        "    self.b = 1\n",
        "\n",
        "  def __iter__(self):\n",
        "    return self\n",
        "\n",
        "  def __next__(self):\n",
        "    if self.count < self.num_terms:\n",
        "      if self.count == 0:\n",
        "        self.count += 1\n",
        "        return self.a\n",
        "      elif self.count == 1:\n",
        "        self.count += 1\n",
        "        return self.b\n",
        "      else:\n",
        "        next_fib = self.a + self.b\n",
        "        self.a = self.b\n",
        "        self.b = next_fib\n",
        "        self.count += 1\n",
        "        return next_fib\n",
        "    else:\n",
        "      raise StopIteration\n",
        "\n",
        "# Example usage:\n",
        "fib_iterator = FibonacciIterator(10)\n",
        "\n",
        "print(\"Fibonacci sequence:\")\n",
        "for number in fib_iterator:\n",
        "  print(number)"
      ]
    },
    {
      "cell_type": "markdown",
      "metadata": {
        "id": "AZ4MPFeM2xhk"
      },
      "source": [
        " 6. Write a generator function in Python that yields the powers of 2 up to a given exponent.\n"
      ]
    },
    {
      "cell_type": "code",
      "execution_count": null,
      "metadata": {
        "colab": {
          "base_uri": "https://localhost:8080/"
        },
        "id": "ce6863da",
        "outputId": "75a94e91-42b1-4e64-ad62-dccf87451627"
      },
      "outputs": [
        {
          "name": "stdout",
          "output_type": "stream",
          "text": [
            "1\n",
            "2\n",
            "4\n",
            "8\n",
            "16\n",
            "32\n"
          ]
        }
      ],
      "source": [
        "def powers_of_two(exponent):\n",
        "  \"\"\"\n",
        "  Generates powers of 2 up to a given exponent.\n",
        "\n",
        "  Args:\n",
        "    exponent: The maximum exponent for the powers of 2.\n",
        "\n",
        "  Yields:\n",
        "    The powers of 2 from 2^0 up to 2^exponent.\n",
        "  \"\"\"\n",
        "  for i in range(exponent + 1):\n",
        "    yield 2 ** i\n",
        "\n",
        "# Example usage:\n",
        "for power in powers_of_two(5):\n",
        "  print(power)"
      ]
    },
    {
      "cell_type": "markdown",
      "metadata": {
        "id": "k0bDZ9mI3NWd"
      },
      "source": [
        " 7. Implement a generator function that reads a file line by line and yields each line as a string.\n"
      ]
    },
    {
      "cell_type": "code",
      "execution_count": null,
      "metadata": {
        "colab": {
          "base_uri": "https://localhost:8080/"
        },
        "id": "4414c3b9",
        "outputId": "ba6ee533-dc9f-46d6-92e2-63933df4ce34"
      },
      "outputs": [
        {
          "name": "stdout",
          "output_type": "stream",
          "text": [
            "Reading file: sample_file.txt\n",
            "Line 1\n",
            "Line 2\n",
            "Line 3\n",
            "Another line\n"
          ]
        }
      ],
      "source": [
        "import os\n",
        "\n",
        "def read_file_lines(filepath):\n",
        "  \"\"\"\n",
        "  Reads a file line by line and yields each line as a string.\n",
        "\n",
        "  Args:\n",
        "    filepath: The path to the file to read.\n",
        "\n",
        "  Yields:\n",
        "    Each line of the file as a string.\n",
        "  \"\"\"\n",
        "  try:\n",
        "    with open(filepath, 'r') as f:\n",
        "      for line in f:\n",
        "        yield line.strip() # Yield each line, removing leading/trailing whitespace\n",
        "  except FileNotFoundError:\n",
        "    print(f\"Error: File not found at {filepath}\")\n",
        "  except Exception as e:\n",
        "    print(f\"An error occurred: {e}\")\n",
        "\n",
        "# Example usage:\n",
        "# Create a dummy file for testing\n",
        "file_content = \"\"\"Line 1\n",
        "Line 2\n",
        "Line 3\n",
        "Another line\n",
        "\"\"\"\n",
        "file_path = \"sample_file.txt\"\n",
        "\n",
        "with open(file_path, \"w\") as f:\n",
        "    f.write(file_content)\n",
        "\n",
        "print(f\"Reading file: {file_path}\")\n",
        "for line in read_file_lines(file_path):\n",
        "  print(line)\n",
        "\n",
        "# Clean up the dummy file\n",
        "os.remove(file_path)"
      ]
    },
    {
      "cell_type": "markdown",
      "metadata": {
        "id": "ngS9ZHBR3UI0"
      },
      "source": [
        " 8. Use a lambda function in Python to sort a list of tuples based on the second element of each tuple.\n"
      ]
    },
    {
      "cell_type": "code",
      "execution_count": null,
      "metadata": {
        "colab": {
          "base_uri": "https://localhost:8080/"
        },
        "id": "288f404d",
        "outputId": "d244e7b9-3914-4356-99c4-680904ed0e4a"
      },
      "outputs": [
        {
          "name": "stdout",
          "output_type": "stream",
          "text": [
            "Original list: [(1, 'b'), (3, 'a'), (2, 'c'), (4, 'a')]\n",
            "Sorted list by second element: [(3, 'a'), (4, 'a'), (1, 'b'), (2, 'c')]\n",
            "Sorted list by second then first element: [(3, 'a'), (4, 'a'), (1, 'b'), (2, 'c')]\n"
          ]
        }
      ],
      "source": [
        "# List of tuples\n",
        "my_list = [(1, 'b'), (3, 'a'), (2, 'c'), (4, 'a')]\n",
        "\n",
        "# Sort the list of tuples based on the second element using a lambda function\n",
        "sorted_list = sorted(my_list, key=lambda item: item[1])\n",
        "\n",
        "print(f\"Original list: {my_list}\")\n",
        "print(f\"Sorted list by second element: {sorted_list}\")\n",
        "\n",
        "# Example sorting by the second element (which is a string) and then the first element (which is an integer)\n",
        "sorted_list_secondary = sorted(my_list, key=lambda item: (item[1], item[0]))\n",
        "print(f\"Sorted list by second then first element: {sorted_list_secondary}\")"
      ]
    },
    {
      "cell_type": "markdown",
      "metadata": {
        "id": "bEYZOhox3uZe"
      },
      "source": [
        " 9. Write a Python program that uses `map()` to convert a list of temperatures from Celsius to Fahrenheit.\n"
      ]
    },
    {
      "cell_type": "code",
      "execution_count": null,
      "metadata": {
        "colab": {
          "base_uri": "https://localhost:8080/"
        },
        "id": "5b6dc6b8",
        "outputId": "163c4713-00d6-4a32-b2a1-6a6f2c11d56e"
      },
      "outputs": [
        {
          "name": "stdout",
          "output_type": "stream",
          "text": [
            "Celsius temperatures: [0, 10, 20, 30, 40, 50]\n",
            "Fahrenheit temperatures: [32.0, 50.0, 68.0, 86.0, 104.0, 122.0]\n",
            "Fahrenheit temperatures (using lambda): [32.0, 50.0, 68.0, 86.0, 104.0, 122.0]\n"
          ]
        }
      ],
      "source": [
        "# List of temperatures in Celsius\n",
        "celsius_temperatures = [0, 10, 20, 30, 40, 50]\n",
        "\n",
        "# Function to convert Celsius to Fahrenheit\n",
        "def celsius_to_fahrenheit(celsius):\n",
        "  return (celsius * 9/5) + 32\n",
        "\n",
        "# Use map() to apply the conversion function to each temperature\n",
        "fahrenheit_temperatures = list(map(celsius_to_fahrenheit, celsius_temperatures))\n",
        "\n",
        "print(f\"Celsius temperatures: {celsius_temperatures}\")\n",
        "print(f\"Fahrenheit temperatures: {fahrenheit_temperatures}\")\n",
        "\n",
        "# You can also use a lambda function directly with map()\n",
        "fahrenheit_temperatures_lambda = list(map(lambda c: (c * 9/5) + 32, celsius_temperatures))\n",
        "print(f\"Fahrenheit temperatures (using lambda): {fahrenheit_temperatures_lambda}\")"
      ]
    },
    {
      "cell_type": "markdown",
      "metadata": {
        "id": "v4qnZyQE350b"
      },
      "source": [
        " 10. Create a Python program that uses `filter()` to remove all the vowels from a given string.\n"
      ]
    },
    {
      "cell_type": "code",
      "execution_count": null,
      "metadata": {
        "colab": {
          "base_uri": "https://localhost:8080/"
        },
        "id": "9cc28550",
        "outputId": "adf553f5-810c-482c-ac51-752c9dc697a6"
      },
      "outputs": [
        {
          "name": "stdout",
          "output_type": "stream",
          "text": [
            "Original string: Hello World\n",
            "String without vowels: Hll Wrld\n",
            "Original string: Programming is fun!\n",
            "String without vowels: Prgrmmng s fn!\n"
          ]
        }
      ],
      "source": [
        "def remove_vowels(input_string):\n",
        "  \"\"\"\n",
        "  Removes all vowels from a string using filter().\n",
        "\n",
        "  Args:\n",
        "    input_string: The string to remove vowels from.\n",
        "\n",
        "  Returns:\n",
        "    The string with vowels removed.\n",
        "  \"\"\"\n",
        "  vowels = \"aeiouAEIOU\"\n",
        "  # filter() returns an iterator, so we join the characters back into a string\n",
        "  filtered_string = \"\".join(filter(lambda char: char not in vowels, input_string))\n",
        "  return filtered_string\n",
        "\n",
        "# Example usage:\n",
        "my_string = \"Hello World\"\n",
        "string_without_vowels = remove_vowels(my_string)\n",
        "print(f\"Original string: {my_string}\")\n",
        "print(f\"String without vowels: {string_without_vowels}\")\n",
        "\n",
        "my_string_2 = \"Programming is fun!\"\n",
        "string_without_vowels_2 = remove_vowels(my_string_2)\n",
        "print(f\"Original string: {my_string_2}\")\n",
        "print(f\"String without vowels: {string_without_vowels_2}\")"
      ]
    },
    {
      "cell_type": "markdown",
      "metadata": {
        "id": "Y-Z3P3aqH3P7"
      },
      "source": [
        "11) Imagine an accounting ro utine used in a book shop. It works on a list with sublists, which look like this:"
      ]
    },
    {
      "cell_type": "markdown",
      "metadata": {
        "id": "7d36a1f3"
      },
      "source": [
        "| Order Number | Book Title and Author           | Quantity | Price Per Item |\n",
        "|--------------|---------------------------------|----------|----------------|\n",
        "| 34587        | Learning Python, Mark Lutz      | 4        | 40.95          |\n",
        "| 98762        | Programming Python, Mark Lutz   | 5        | 56.80          |\n",
        "| 77226        | Head First Python, Paul Barry   | 3        | 32.95          |\n",
        "| 88112        | Einführung in Python3, Bernd Klein | 3        | 24.99          |"
      ]
    },
    {
      "cell_type": "markdown",
      "metadata": {
        "id": "viJbKSIwK2-8"
      },
      "source": [
        " Write a Python program, which returns a list with 2-tuples. Each tuple\n",
        " consists of the order number and the product of the price per item and the\n",
        " quantity. The product should be increased by 10,- € if the value of the order is\n",
        " smaller than 100,00 €.\n",
        " Write a Python program using lambda and map.\n"
      ]
    },
    {
      "cell_type": "code",
      "execution_count": null,
      "metadata": {
        "colab": {
          "base_uri": "https://localhost:8080/"
        },
        "id": "L5wH5B3lLMdK",
        "outputId": "178bb5c9-5dca-4f37-e479-3b13378985bb"
      },
      "outputs": [
        {
          "name": "stdout",
          "output_type": "stream",
          "text": [
            "[(34587, 163.8), (98762, 284.0), (77226, 108.85000000000001), (88112, 84.97)]\n"
          ]
        }
      ],
      "source": [
        " orders = [\n",
        " [34587, \"Learning Python, Mark Lutz\", 4, 40.95],\n",
        " [98762, \"Programming Python, Mark Lutz\", 5, 56.80],\n",
        " [77226, \"Head First Python, Paul Barry\", 3, 32.95],\n",
        " [88112, \"Einführung in Python3, Bernd Klein\", 3, 24.99]\n",
        " ]\n",
        "\n",
        "#Using lambda and map\n",
        "result = list(map(lambda order: (order[0],\n",
        "    order[2]* order[3] if\n",
        "    order[2] *order[3]>100 else order[2] *\n",
        "    order[3] + 10\n",
        "), orders))\n",
        "print(result)\n"
      ]
    }
  ],
  "metadata": {
    "colab": {
      "provenance": []
    },
    "kernelspec": {
      "display_name": "Python 3",
      "name": "python3"
    },
    "language_info": {
      "name": "python"
    }
  },
  "nbformat": 4,
  "nbformat_minor": 0
}
